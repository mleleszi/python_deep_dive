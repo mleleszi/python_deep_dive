{
  "nbformat": 4,
  "nbformat_minor": 0,
  "metadata": {
    "colab": {
      "provenance": [],
      "authorship_tag": "ABX9TyPCL5L9yj3gc6lbTBIeO88M",
      "include_colab_link": true
    },
    "kernelspec": {
      "name": "python3",
      "display_name": "Python 3"
    },
    "language_info": {
      "name": "python"
    }
  },
  "cells": [
    {
      "cell_type": "markdown",
      "metadata": {
        "id": "view-in-github",
        "colab_type": "text"
      },
      "source": [
        "<a href=\"https://colab.research.google.com/github/mleleszi/python_deep_dive/blob/main/interning.ipynb\" target=\"_parent\"><img src=\"https://colab.research.google.com/assets/colab-badge.svg\" alt=\"Open In Colab\"/></a>"
      ]
    },
    {
      "cell_type": "code",
      "execution_count": null,
      "metadata": {
        "id": "jryZ6zsXaE6T",
        "colab": {
          "base_uri": "https://localhost:8080/"
        },
        "outputId": "775250cb-6dad-45f2-b2f7-85c7314c8207"
      },
      "outputs": [
        {
          "output_type": "execute_result",
          "data": {
            "text/plain": [
              "True"
            ]
          },
          "metadata": {},
          "execution_count": 3
        }
      ],
      "source": [
        "a = 10\n",
        "b = a\n",
        "\n",
        "a is b"
      ]
    },
    {
      "cell_type": "code",
      "source": [
        "a = 'test'\n",
        "b = 'test'\n",
        "\n",
        "a is b"
      ],
      "metadata": {
        "colab": {
          "base_uri": "https://localhost:8080/"
        },
        "id": "31Sp1Te6mNzN",
        "outputId": "c13d1f6c-3822-41f7-cacc-57baa4b5e2ed"
      },
      "execution_count": null,
      "outputs": [
        {
          "output_type": "execute_result",
          "data": {
            "text/plain": [
              "True"
            ]
          },
          "metadata": {},
          "execution_count": 4
        }
      ]
    },
    {
      "cell_type": "code",
      "source": [
        "a = 10\n",
        "b = 10.0\n",
        "\n",
        "a == b\n",
        "a is b"
      ],
      "metadata": {
        "id": "zhB1omhimyct",
        "outputId": "050d2132-1cfc-4824-bee4-f7f72772813f",
        "colab": {
          "base_uri": "https://localhost:8080/"
        }
      },
      "execution_count": null,
      "outputs": [
        {
          "output_type": "execute_result",
          "data": {
            "text/plain": [
              "False"
            ]
          },
          "metadata": {},
          "execution_count": 6
        }
      ]
    },
    {
      "cell_type": "code",
      "source": [
        "a = 257\n",
        "b = 257\n",
        "print(id(a), id(b))"
      ],
      "metadata": {
        "colab": {
          "base_uri": "https://localhost:8080/"
        },
        "id": "R_tZPJrHpibp",
        "outputId": "6caa8d83-3ee7-4cd5-ff5c-9876f0f04368"
      },
      "execution_count": 13,
      "outputs": [
        {
          "output_type": "stream",
          "name": "stdout",
          "text": [
            "140122066063856 140122066063408\n"
          ]
        }
      ]
    },
    {
      "cell_type": "code",
      "source": [
        "a is b"
      ],
      "metadata": {
        "colab": {
          "base_uri": "https://localhost:8080/"
        },
        "id": "pLygdNPT5gAw",
        "outputId": "11d7e0cc-5eef-4fd2-9b0b-8794f99fb2ee"
      },
      "execution_count": 15,
      "outputs": [
        {
          "output_type": "execute_result",
          "data": {
            "text/plain": [
              "False"
            ]
          },
          "metadata": {},
          "execution_count": 15
        }
      ]
    },
    {
      "cell_type": "code",
      "source": [
        "import sys"
      ],
      "metadata": {
        "id": "eQYfFXXS5iB2"
      },
      "execution_count": 19,
      "outputs": []
    },
    {
      "cell_type": "code",
      "source": [
        "def compare_using_equals(n):\n",
        "  a = 'a long string tgha is not interned' * 200\n",
        "  b = 'a long string tgha is not interned' * 200\n",
        "  for i in range(n):\n",
        "    if a == b:\n",
        "      pass"
      ],
      "metadata": {
        "id": "GR8tW1HN7mhY"
      },
      "execution_count": 18,
      "outputs": []
    },
    {
      "cell_type": "code",
      "source": [
        "def compare_using_interning(n):\n",
        "  a = sys.intern('a long string tgha is not interned' * 200)\n",
        "  b = sys.intern('a long string tgha is not interned' * 200)\n",
        "  for i in range(n):\n",
        "    if a is b:\n",
        "      pass"
      ],
      "metadata": {
        "id": "A_v4rdOK72gj"
      },
      "execution_count": 21,
      "outputs": []
    },
    {
      "cell_type": "code",
      "source": [
        "import time\n"
      ],
      "metadata": {
        "id": "GfkvUnqZ8A7u"
      },
      "execution_count": 22,
      "outputs": []
    },
    {
      "cell_type": "code",
      "source": [
        "start = time.perf_counter()\n",
        "compare_using_equals(10000000)\n",
        "end = time.perf_counter()\n",
        "print(end - start)"
      ],
      "metadata": {
        "colab": {
          "base_uri": "https://localhost:8080/"
        },
        "id": "ugDkuPYG8HEW",
        "outputId": "0fa86ae7-1ce5-4598-f352-63eb9c4313a2"
      },
      "execution_count": 23,
      "outputs": [
        {
          "output_type": "stream",
          "name": "stdout",
          "text": [
            "1.6784587160000228\n"
          ]
        }
      ]
    },
    {
      "cell_type": "code",
      "source": [
        "start = time.perf_counter()\n",
        "compare_using_interning(10000000)\n",
        "end = time.perf_counter()\n",
        "print(end - start)"
      ],
      "metadata": {
        "colab": {
          "base_uri": "https://localhost:8080/"
        },
        "id": "CMUc3fgG8Vmf",
        "outputId": "f61aab36-f555-40d6-bb8e-3b65c0e6e8ad"
      },
      "execution_count": 24,
      "outputs": [
        {
          "output_type": "stream",
          "name": "stdout",
          "text": [
            "0.49031674199977715\n"
          ]
        }
      ]
    }
  ]
}